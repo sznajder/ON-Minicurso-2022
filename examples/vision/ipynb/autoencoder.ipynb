{
  "cells": [
    {
      "cell_type": "markdown",
      "metadata": {
        "id": "view-in-github",
        "colab_type": "text"
      },
      "source": [
        "<a href=\"https://colab.research.google.com/github/sznajder/ON-Minicurso-2022/blob/main/examples/vision/ipynb/autoencoder.ipynb\" target=\"_parent\"><img src=\"https://colab.research.google.com/assets/colab-badge.svg\" alt=\"Open In Colab\"/></a>"
      ]
    },
    {
      "cell_type": "markdown",
      "metadata": {
        "id": "4St5uFEq7bmT"
      },
      "source": [
        "# Convolutional autoencoder for image denoising\n",
        "\n",
        "**Author:** [Santiago L. Valdarrama](https://twitter.com/svpino)<br>\n",
        "**Date created:** 2021/03/01<br>\n",
        "**Last modified:** 2021/03/01<br>\n",
        "**Description:** How to train a deep convolutional autoencoder for image denoising."
      ]
    },
    {
      "cell_type": "markdown",
      "metadata": {
        "id": "LRzfzG4G7bmX"
      },
      "source": [
        "## Introduction\n",
        "\n",
        "This example demonstrates how to implement a deep convolutional autoencoder\n",
        "for image denoising, mapping noisy digits images from the MNIST dataset to\n",
        "clean digits images. This implementation is based on an original blog post\n",
        "titled [Building Autoencoders in Keras](https://blog.keras.io/building-autoencoders-in-keras.html)\n",
        "by [François Chollet](https://twitter.com/fchollet)."
      ]
    },
    {
      "cell_type": "markdown",
      "metadata": {
        "id": "31K5HGmU7bmX"
      },
      "source": [
        "## Setup"
      ]
    },
    {
      "cell_type": "code",
      "execution_count": 1,
      "metadata": {
        "id": "gUnSJlw37bmY"
      },
      "outputs": [],
      "source": [
        "import numpy as np\n",
        "import tensorflow as tf\n",
        "import matplotlib.pyplot as plt\n",
        "\n",
        "from tensorflow.keras import layers\n",
        "from tensorflow.keras.datasets import mnist\n",
        "from tensorflow.keras.models import Model\n",
        "\n",
        "\n",
        "def preprocess(array):\n",
        "    \"\"\"\n",
        "    Normalizes the supplied array and reshapes it into the appropriate format.\n",
        "    \"\"\"\n",
        "\n",
        "    array = array.astype(\"float32\") / 255.0\n",
        "    array = np.reshape(array, (len(array), 28, 28, 1))\n",
        "    return array\n",
        "\n",
        "\n",
        "def noise(array):\n",
        "    \"\"\"\n",
        "    Adds random noise to each image in the supplied array.\n",
        "    \"\"\"\n",
        "\n",
        "    noise_factor = 0.4\n",
        "    noisy_array = array + noise_factor * np.random.normal(\n",
        "        loc=0.0, scale=1.0, size=array.shape\n",
        "    )\n",
        "\n",
        "    return np.clip(noisy_array, 0.0, 1.0)\n",
        "\n",
        "\n",
        "def display(array1, array2):\n",
        "    \"\"\"\n",
        "    Displays ten random images from each one of the supplied arrays.\n",
        "    \"\"\"\n",
        "\n",
        "    n = 10\n",
        "\n",
        "    indices = np.random.randint(len(array1), size=n)\n",
        "    images1 = array1[indices, :]\n",
        "    images2 = array2[indices, :]\n",
        "\n",
        "    plt.figure(figsize=(20, 4))\n",
        "    for i, (image1, image2) in enumerate(zip(images1, images2)):\n",
        "        ax = plt.subplot(2, n, i + 1)\n",
        "        plt.imshow(image1.reshape(28, 28))\n",
        "        plt.gray()\n",
        "        ax.get_xaxis().set_visible(False)\n",
        "        ax.get_yaxis().set_visible(False)\n",
        "\n",
        "        ax = plt.subplot(2, n, i + 1 + n)\n",
        "        plt.imshow(image2.reshape(28, 28))\n",
        "        plt.gray()\n",
        "        ax.get_xaxis().set_visible(False)\n",
        "        ax.get_yaxis().set_visible(False)\n",
        "\n",
        "    plt.show()\n"
      ]
    },
    {
      "cell_type": "markdown",
      "metadata": {
        "id": "a4upjkDp7bma"
      },
      "source": [
        "## Prepare the data"
      ]
    },
    {
      "cell_type": "code",
      "execution_count": 2,
      "metadata": {
        "id": "fB1pMGJx7bma",
        "outputId": "fb67284f-ceda-4aa2-b633-686b9d538fa6",
        "colab": {
          "base_uri": "https://localhost:8080/",
          "height": 269
        }
      },
      "outputs": [
        {
          "output_type": "stream",
          "name": "stdout",
          "text": [
            "Downloading data from https://storage.googleapis.com/tensorflow/tf-keras-datasets/mnist.npz\n",
            "11493376/11490434 [==============================] - 0s 0us/step\n",
            "11501568/11490434 [==============================] - 0s 0us/step\n"
          ]
        },
        {
          "output_type": "display_data",
          "data": {
            "text/plain": [
              "<Figure size 1440x288 with 20 Axes>"
            ],
            "image/png": "[encoded data removed]"
          },
          "metadata": {
            "needs_background": "light"
          }
        }
      ],
      "source": [
        "# Since we only need images from the dataset to encode and decode, we\n",
        "# won't use the labels.\n",
        "(train_data, _), (test_data, _) = mnist.load_data()\n",
        "\n",
        "# Normalize and reshape the data\n",
        "train_data = preprocess(train_data)\n",
        "test_data = preprocess(test_data)\n",
        "\n",
        "# Create a copy of the data with added noise\n",
        "noisy_train_data = noise(train_data)\n",
        "noisy_test_data = noise(test_data)\n",
        "\n",
        "# Display the train data and a version of it with added noise\n",
        "display(train_data, noisy_train_data)"
      ]
    },
    {
      "cell_type": "markdown",
      "metadata": {
        "id": "PJJesxjv7bmb"
      },
      "source": [
        "## Build the autoencoder\n",
        "\n",
        "We are going to use the Functional API to build our convolutional autoencoder."
      ]
    },
    {
      "cell_type": "code",
      "execution_count": 3,
      "metadata": {
        "id": "TbuBqBnx7bmb",
        "outputId": "8fef29dd-127d-40ce-a686-5aeb820fd671",
        "colab": {
          "base_uri": "https://localhost:8080/"
        }
      },
      "outputs": [
        {
          "output_type": "stream",
          "name": "stdout",
          "text": [
            "Model: \"model\"\n",
            "_________________________________________________________________\n",
            " Layer (type)                Output Shape              Param #   \n",
            "=================================================================\n",
            " input_1 (InputLayer)        [(None, 28, 28, 1)]       0         \n",
            "                                                                 \n",
            " conv2d (Conv2D)             (None, 28, 28, 32)        320       \n",
            "                                                                 \n",
            " max_pooling2d (MaxPooling2D  (None, 14, 14, 32)       0         \n",
            " )                                                               \n",
            "                                                                 \n",
            " conv2d_1 (Conv2D)           (None, 14, 14, 32)        9248      \n",
            "                                                                 \n",
            " max_pooling2d_1 (MaxPooling  (None, 7, 7, 32)         0         \n",
            " 2D)                                                             \n",
            "                                                                 \n",
            " conv2d_transpose (Conv2DTra  (None, 14, 14, 32)       9248      \n",
            " nspose)                                                         \n",
            "                                                                 \n",
            " conv2d_transpose_1 (Conv2DT  (None, 28, 28, 32)       9248      \n",
            " ranspose)                                                       \n",
            "                                                                 \n",
            " conv2d_2 (Conv2D)           (None, 28, 28, 1)         289       \n",
            "                                                                 \n",
            "=================================================================\n",
            "Total params: 28,353\n",
            "Trainable params: 28,353\n",
            "Non-trainable params: 0\n",
            "_________________________________________________________________\n"
          ]
        }
      ],
      "source": [
        "input = layers.Input(shape=(28, 28, 1))\n",
        "\n",
        "# Encoder\n",
        "x = layers.Conv2D(32, (3, 3), activation=\"relu\", padding=\"same\")(input)\n",
        "x = layers.MaxPooling2D((2, 2), padding=\"same\")(x)\n",
        "x = layers.Conv2D(32, (3, 3), activation=\"relu\", padding=\"same\")(x)\n",
        "x = layers.MaxPooling2D((2, 2), padding=\"same\")(x)\n",
        "\n",
        "# Decoder\n",
        "x = layers.Conv2DTranspose(32, (3, 3), strides=2, activation=\"relu\", padding=\"same\")(x)\n",
        "x = layers.Conv2DTranspose(32, (3, 3), strides=2, activation=\"relu\", padding=\"same\")(x)\n",
        "x = layers.Conv2D(1, (3, 3), activation=\"sigmoid\", padding=\"same\")(x)\n",
        "\n",
        "# Autoencoder\n",
        "autoencoder = Model(input, x)\n",
        "autoencoder.compile(optimizer=\"adam\", loss=\"binary_crossentropy\")\n",
        "autoencoder.summary()"
      ]
    },
    {
      "cell_type": "markdown",
      "metadata": {
        "id": "cQuv7rsi7bmc"
      },
      "source": [
        "Now we can train our autoencoder using `train_data` as both our input data\n",
        "and target. Notice we are setting up the validation data using the same\n",
        "format."
      ]
    },
    {
      "cell_type": "code",
      "execution_count": 4,
      "metadata": {
        "id": "Sh7aHdAo7bmd",
        "outputId": "d2764e03-0636-4f48-aa64-744050840200",
        "colab": {
          "base_uri": "https://localhost:8080/"
        }
      },
      "outputs": [
        {
          "output_type": "stream",
          "name": "stdout",
          "text": [
            "Epoch 1/50\n",
            "469/469 [==============================] - 16s 10ms/step - loss: 0.1309 - val_loss: 0.0733\n",
            "Epoch 2/50\n",
            "469/469 [==============================] - 4s 8ms/step - loss: 0.0716 - val_loss: 0.0696\n",
            "Epoch 3/50\n",
            "469/469 [==============================] - 4s 8ms/step - loss: 0.0693 - val_loss: 0.0680\n",
            "Epoch 4/50\n",
            "469/469 [==============================] - 4s 8ms/step - loss: 0.0681 - val_loss: 0.0672\n",
            "Epoch 5/50\n",
            "469/469 [==============================] - 4s 8ms/step - loss: 0.0673 - val_loss: 0.0665\n",
            "Epoch 6/50\n",
            "469/469 [==============================] - 4s 9ms/step - loss: 0.0667 - val_loss: 0.0660\n",
            "Epoch 7/50\n",
            "469/469 [==============================] - 4s 8ms/step - loss: 0.0662 - val_loss: 0.0656\n",
            "Epoch 8/50\n",
            "469/469 [==============================] - 4s 8ms/step - loss: 0.0658 - val_loss: 0.0653\n",
            "Epoch 9/50\n",
            "469/469 [==============================] - 4s 9ms/step - loss: 0.0655 - val_loss: 0.0650\n",
            "Epoch 10/50\n",
            "469/469 [==============================] - 4s 8ms/step - loss: 0.0652 - val_loss: 0.0647\n",
            "Epoch 11/50\n",
            "469/469 [==============================] - 4s 8ms/step - loss: 0.0650 - val_loss: 0.0644\n",
            "Epoch 12/50\n",
            "469/469 [==============================] - 4s 9ms/step - loss: 0.0647 - val_loss: 0.0642\n",
            "Epoch 13/50\n",
            "469/469 [==============================] - 4s 9ms/step - loss: 0.0645 - val_loss: 0.0640\n",
            "Epoch 14/50\n",
            "469/469 [==============================] - 4s 8ms/step - loss: 0.0643 - val_loss: 0.0638\n",
            "Epoch 15/50\n",
            "469/469 [==============================] - 4s 8ms/step - loss: 0.0641 - val_loss: 0.0637\n",
            "Epoch 16/50\n",
            "469/469 [==============================] - 4s 9ms/step - loss: 0.0640 - val_loss: 0.0635\n",
            "Epoch 17/50\n",
            "469/469 [==============================] - 4s 9ms/step - loss: 0.0638 - val_loss: 0.0634\n",
            "Epoch 18/50\n",
            "469/469 [==============================] - 4s 9ms/step - loss: 0.0637 - val_loss: 0.0632\n",
            "Epoch 19/50\n",
            "469/469 [==============================] - 4s 8ms/step - loss: 0.0636 - val_loss: 0.0632\n",
            "Epoch 20/50\n",
            "469/469 [==============================] - 4s 8ms/step - loss: 0.0635 - val_loss: 0.0631\n",
            "Epoch 21/50\n",
            "469/469 [==============================] - 4s 9ms/step - loss: 0.0634 - val_loss: 0.0630\n",
            "Epoch 22/50\n",
            "469/469 [==============================] - 4s 9ms/step - loss: 0.0633 - val_loss: 0.0629\n",
            "Epoch 23/50\n",
            "469/469 [==============================] - 4s 9ms/step - loss: 0.0632 - val_loss: 0.0628\n",
            "Epoch 24/50\n",
            "469/469 [==============================] - 4s 9ms/step - loss: 0.0632 - val_loss: 0.0628\n",
            "Epoch 25/50\n",
            "469/469 [==============================] - 4s 9ms/step - loss: 0.0631 - val_loss: 0.0627\n",
            "Epoch 26/50\n",
            "469/469 [==============================] - 4s 9ms/step - loss: 0.0630 - val_loss: 0.0627\n",
            "Epoch 27/50\n",
            "469/469 [==============================] - 4s 9ms/step - loss: 0.0630 - val_loss: 0.0626\n",
            "Epoch 28/50\n",
            "469/469 [==============================] - 4s 9ms/step - loss: 0.0629 - val_loss: 0.0626\n",
            "Epoch 29/50\n",
            "469/469 [==============================] - 4s 10ms/step - loss: 0.0629 - val_loss: 0.0626\n",
            "Epoch 30/50\n",
            "469/469 [==============================] - 4s 10ms/step - loss: 0.0628 - val_loss: 0.0625\n",
            "Epoch 31/50\n",
            "469/469 [==============================] - 4s 9ms/step - loss: 0.0628 - val_loss: 0.0624\n",
            "Epoch 32/50\n",
            "469/469 [==============================] - 4s 8ms/step - loss: 0.0628 - val_loss: 0.0624\n",
            "Epoch 33/50\n",
            "469/469 [==============================] - 4s 9ms/step - loss: 0.0627 - val_loss: 0.0624\n",
            "Epoch 34/50\n",
            "469/469 [==============================] - 4s 8ms/step - loss: 0.0627 - val_loss: 0.0624\n",
            "Epoch 35/50\n",
            "469/469 [==============================] - 4s 9ms/step - loss: 0.0626 - val_loss: 0.0623\n",
            "Epoch 36/50\n",
            "469/469 [==============================] - 5s 10ms/step - loss: 0.0626 - val_loss: 0.0622\n",
            "Epoch 37/50\n",
            "469/469 [==============================] - 5s 11ms/step - loss: 0.0626 - val_loss: 0.0622\n",
            "Epoch 38/50\n",
            "469/469 [==============================] - 4s 9ms/step - loss: 0.0625 - val_loss: 0.0622\n",
            "Epoch 39/50\n",
            "469/469 [==============================] - 4s 9ms/step - loss: 0.0625 - val_loss: 0.0622\n",
            "Epoch 40/50\n",
            "469/469 [==============================] - 4s 9ms/step - loss: 0.0625 - val_loss: 0.0621\n",
            "Epoch 41/50\n",
            "469/469 [==============================] - 4s 9ms/step - loss: 0.0624 - val_loss: 0.0623\n",
            "Epoch 42/50\n",
            "469/469 [==============================] - 4s 9ms/step - loss: 0.0624 - val_loss: 0.0622\n",
            "Epoch 43/50\n",
            "469/469 [==============================] - 4s 9ms/step - loss: 0.0624 - val_loss: 0.0621\n",
            "Epoch 44/50\n",
            "469/469 [==============================] - 4s 9ms/step - loss: 0.0624 - val_loss: 0.0620\n",
            "Epoch 45/50\n",
            "469/469 [==============================] - 4s 8ms/step - loss: 0.0623 - val_loss: 0.0621\n",
            "Epoch 46/50\n",
            "469/469 [==============================] - 4s 9ms/step - loss: 0.0623 - val_loss: 0.0619\n",
            "Epoch 47/50\n",
            "469/469 [==============================] - 4s 8ms/step - loss: 0.0623 - val_loss: 0.0620\n",
            "Epoch 48/50\n",
            "469/469 [==============================] - 4s 9ms/step - loss: 0.0623 - val_loss: 0.0620\n",
            "Epoch 49/50\n",
            "469/469 [==============================] - 4s 9ms/step - loss: 0.0623 - val_loss: 0.0619\n",
            "Epoch 50/50\n",
            "469/469 [==============================] - 4s 8ms/step - loss: 0.0623 - val_loss: 0.0619\n"
          ]
        },
        {
          "output_type": "execute_result",
          "data": {
            "text/plain": [
              "<keras.callbacks.History at 0x7fbba013df50>"
            ]
          },
          "metadata": {},
          "execution_count": 4
        }
      ],
      "source": [
        "autoencoder.fit(\n",
        "    x=train_data,\n",
        "    y=train_data,\n",
        "    epochs=50,\n",
        "    batch_size=128,\n",
        "    shuffle=True,\n",
        "    validation_data=(test_data, test_data),\n",
        ")"
      ]
    },
    {
      "cell_type": "markdown",
      "metadata": {
        "id": "kDU22M-z7bmd"
      },
      "source": [
        "Let's predict on our test dataset and display the original image together with\n",
        "the prediction from our autoencoder.\n",
        "\n",
        "Notice how the predictions are pretty close to the original images, although\n",
        "not quite the same."
      ]
    },
    {
      "cell_type": "code",
      "execution_count": 5,
      "metadata": {
        "id": "MQk48FhG7bmd",
        "outputId": "6fae7053-c379-48e9-82fd-4f446202ea8c",
        "colab": {
          "base_uri": "https://localhost:8080/",
          "height": 215
        }
      },
      "outputs": [
        {
          "output_type": "display_data",
          "data": {
            "text/plain": [
              "<Figure size 1440x288 with 20 Axes>"
            ],
            "image/png": "[encoded data removed]"
          },
          "metadata": {
            "needs_background": "light"
          }
        }
      ],
      "source": [
        "predictions = autoencoder.predict(test_data)\n",
        "display(test_data, predictions)"
      ]
    },
    {
      "cell_type": "markdown",
      "metadata": {
        "id": "9BAnFWHm7bme"
      },
      "source": [
        "Now that we know that our autoencoder works, let's retrain it using the noisy\n",
        "data as our input and the clean data as our target. We want our autoencoder to\n",
        "learn how to denoise the images."
      ]
    },
    {
      "cell_type": "code",
      "execution_count": 6,
      "metadata": {
        "id": "DGYxqlh97bme",
        "outputId": "3be74383-d93d-47e3-8525-cd362696a53d",
        "colab": {
          "base_uri": "https://localhost:8080/",
          "height": 1000
        }
      },
      "outputs": [
        {
          "output_type": "stream",
          "name": "stdout",
          "text": [
            "Epoch 1/100\n",
            "469/469 [==============================] - 4s 9ms/step - loss: 0.1020 - val_loss: 0.0946\n",
            "Epoch 2/100\n",
            "469/469 [==============================] - 4s 8ms/step - loss: 0.0941 - val_loss: 0.0925\n",
            "Epoch 3/100\n",
            "469/469 [==============================] - 4s 9ms/step - loss: 0.0924 - val_loss: 0.0912\n",
            "Epoch 4/100\n",
            "469/469 [==============================] - 5s 10ms/step - loss: 0.0913 - val_loss: 0.0902\n",
            "Epoch 5/100\n",
            "469/469 [==============================] - 4s 8ms/step - loss: 0.0905 - val_loss: 0.0895\n",
            "Epoch 6/100\n",
            "469/469 [==============================] - 4s 9ms/step - loss: 0.0898 - val_loss: 0.0888\n",
            "Epoch 7/100\n",
            "469/469 [==============================] - 4s 9ms/step - loss: 0.0892 - val_loss: 0.0886\n",
            "Epoch 8/100\n",
            "469/469 [==============================] - 4s 9ms/step - loss: 0.0888 - val_loss: 0.0880\n",
            "Epoch 9/100\n",
            "469/469 [==============================] - 4s 8ms/step - loss: 0.0884 - val_loss: 0.0878\n",
            "Epoch 10/100\n",
            "469/469 [==============================] - 4s 8ms/step - loss: 0.0881 - val_loss: 0.0874\n",
            "Epoch 11/100\n",
            "469/469 [==============================] - 4s 8ms/step - loss: 0.0878 - val_loss: 0.0871\n",
            "Epoch 12/100\n",
            "469/469 [==============================] - 4s 8ms/step - loss: 0.0876 - val_loss: 0.0869\n",
            "Epoch 13/100\n",
            "469/469 [==============================] - 4s 8ms/step - loss: 0.0874 - val_loss: 0.0875\n",
            "Epoch 14/100\n",
            "469/469 [==============================] - 4s 8ms/step - loss: 0.0872 - val_loss: 0.0866\n",
            "Epoch 15/100\n",
            "469/469 [==============================] - 4s 8ms/step - loss: 0.0871 - val_loss: 0.0865\n",
            "Epoch 16/100\n",
            "469/469 [==============================] - 4s 8ms/step - loss: 0.0870 - val_loss: 0.0864\n",
            "Epoch 17/100\n",
            "469/469 [==============================] - 4s 8ms/step - loss: 0.0868 - val_loss: 0.0863\n",
            "Epoch 18/100\n",
            "469/469 [==============================] - 4s 8ms/step - loss: 0.0867 - val_loss: 0.0863\n",
            "Epoch 19/100\n",
            "469/469 [==============================] - 4s 8ms/step - loss: 0.0866 - val_loss: 0.0862\n",
            "Epoch 20/100\n",
            "469/469 [==============================] - 4s 9ms/step - loss: 0.0865 - val_loss: 0.0861\n",
            "Epoch 21/100\n",
            "469/469 [==============================] - 4s 8ms/step - loss: 0.0864 - val_loss: 0.0861\n",
            "Epoch 22/100\n",
            "469/469 [==============================] - 4s 8ms/step - loss: 0.0863 - val_loss: 0.0863\n",
            "Epoch 23/100\n",
            "469/469 [==============================] - 4s 8ms/step - loss: 0.0863 - val_loss: 0.0858\n",
            "Epoch 24/100\n",
            "469/469 [==============================] - 4s 8ms/step - loss: 0.0862 - val_loss: 0.0859\n",
            "Epoch 25/100\n",
            "469/469 [==============================] - 4s 8ms/step - loss: 0.0861 - val_loss: 0.0857\n",
            "Epoch 26/100\n",
            "469/469 [==============================] - 4s 8ms/step - loss: 0.0861 - val_loss: 0.0856\n",
            "Epoch 27/100\n",
            "469/469 [==============================] - 4s 8ms/step - loss: 0.0860 - val_loss: 0.0856\n",
            "Epoch 28/100\n",
            "469/469 [==============================] - 4s 9ms/step - loss: 0.0859 - val_loss: 0.0856\n",
            "Epoch 29/100\n",
            "469/469 [==============================] - 4s 8ms/step - loss: 0.0859 - val_loss: 0.0855\n",
            "Epoch 30/100\n",
            "469/469 [==============================] - 4s 8ms/step - loss: 0.0858 - val_loss: 0.0861\n",
            "Epoch 31/100\n",
            "469/469 [==============================] - 4s 8ms/step - loss: 0.0858 - val_loss: 0.0855\n",
            "Epoch 32/100\n",
            "469/469 [==============================] - 4s 9ms/step - loss: 0.0857 - val_loss: 0.0854\n",
            "Epoch 33/100\n",
            "469/469 [==============================] - 4s 8ms/step - loss: 0.0857 - val_loss: 0.0854\n",
            "Epoch 34/100\n",
            "469/469 [==============================] - 4s 10ms/step - loss: 0.0856 - val_loss: 0.0852\n",
            "Epoch 35/100\n",
            "469/469 [==============================] - 4s 8ms/step - loss: 0.0856 - val_loss: 0.0853\n",
            "Epoch 36/100\n",
            "469/469 [==============================] - 4s 9ms/step - loss: 0.0856 - val_loss: 0.0851\n",
            "Epoch 37/100\n",
            "469/469 [==============================] - 4s 8ms/step - loss: 0.0855 - val_loss: 0.0851\n",
            "Epoch 38/100\n",
            "469/469 [==============================] - 4s 9ms/step - loss: 0.0855 - val_loss: 0.0852\n",
            "Epoch 39/100\n",
            "469/469 [==============================] - 4s 8ms/step - loss: 0.0855 - val_loss: 0.0851\n",
            "Epoch 40/100\n",
            "469/469 [==============================] - 4s 9ms/step - loss: 0.0854 - val_loss: 0.0851\n",
            "Epoch 41/100\n",
            "469/469 [==============================] - 5s 10ms/step - loss: 0.0854 - val_loss: 0.0852\n",
            "Epoch 42/100\n",
            "469/469 [==============================] - 4s 8ms/step - loss: 0.0854 - val_loss: 0.0851\n",
            "Epoch 43/100\n",
            "469/469 [==============================] - 4s 9ms/step - loss: 0.0853 - val_loss: 0.0850\n",
            "Epoch 44/100\n",
            "469/469 [==============================] - 4s 9ms/step - loss: 0.0853 - val_loss: 0.0849\n",
            "Epoch 45/100\n",
            "469/469 [==============================] - 4s 8ms/step - loss: 0.0853 - val_loss: 0.0849\n",
            "Epoch 46/100\n",
            "469/469 [==============================] - 4s 8ms/step - loss: 0.0852 - val_loss: 0.0849\n",
            "Epoch 47/100\n",
            "469/469 [==============================] - 4s 9ms/step - loss: 0.0852 - val_loss: 0.0850\n",
            "Epoch 48/100\n",
            "469/469 [==============================] - 4s 8ms/step - loss: 0.0852 - val_loss: 0.0849\n",
            "Epoch 49/100\n",
            "469/469 [==============================] - 4s 9ms/step - loss: 0.0852 - val_loss: 0.0848\n",
            "Epoch 50/100\n",
            "469/469 [==============================] - 4s 9ms/step - loss: 0.0851 - val_loss: 0.0848\n",
            "Epoch 51/100\n",
            "469/469 [==============================] - 4s 8ms/step - loss: 0.0851 - val_loss: 0.0848\n",
            "Epoch 52/100\n",
            "469/469 [==============================] - 4s 8ms/step - loss: 0.0851 - val_loss: 0.0851\n",
            "Epoch 53/100\n",
            "469/469 [==============================] - 4s 8ms/step - loss: 0.0851 - val_loss: 0.0848\n",
            "Epoch 54/100\n",
            "469/469 [==============================] - 4s 8ms/step - loss: 0.0850 - val_loss: 0.0848\n",
            "Epoch 55/100\n",
            "119/469 [======>.......................] - ETA: 2s - loss: 0.0849"
          ]
        },
        {
          "output_type": "error",
          "ename": "KeyboardInterrupt",
          "evalue": "ignored",
          "traceback": [
            "\u001b[0;31m---------------------------------------------------------------------------\u001b[0m",
            "\u001b[0;31mKeyboardInterrupt\u001b[0m                         Traceback (most recent call last)",
            "\u001b[0;32m<ipython-input-6-6d4fee20435b>\u001b[0m in \u001b[0;36m<module>\u001b[0;34m\u001b[0m\n\u001b[1;32m      5\u001b[0m     \u001b[0mbatch_size\u001b[0m\u001b[0;34m=\u001b[0m\u001b[0;36m128\u001b[0m\u001b[0;34m,\u001b[0m\u001b[0;34m\u001b[0m\u001b[0;34m\u001b[0m\u001b[0m\n\u001b[1;32m      6\u001b[0m     \u001b[0mshuffle\u001b[0m\u001b[0;34m=\u001b[0m\u001b[0;32mTrue\u001b[0m\u001b[0;34m,\u001b[0m\u001b[0;34m\u001b[0m\u001b[0;34m\u001b[0m\u001b[0m\n\u001b[0;32m----> 7\u001b[0;31m     \u001b[0mvalidation_data\u001b[0m\u001b[0;34m=\u001b[0m\u001b[0;34m(\u001b[0m\u001b[0mnoisy_test_data\u001b[0m\u001b[0;34m,\u001b[0m \u001b[0mtest_data\u001b[0m\u001b[0;34m)\u001b[0m\u001b[0;34m,\u001b[0m\u001b[0;34m\u001b[0m\u001b[0;34m\u001b[0m\u001b[0m\n\u001b[0m\u001b[1;32m      8\u001b[0m )\n",
            "\u001b[0;32m/usr/local/lib/python3.7/dist-packages/keras/utils/traceback_utils.py\u001b[0m in \u001b[0;36merror_handler\u001b[0;34m(*args, **kwargs)\u001b[0m\n\u001b[1;32m     62\u001b[0m     \u001b[0mfiltered_tb\u001b[0m \u001b[0;34m=\u001b[0m \u001b[0;32mNone\u001b[0m\u001b[0;34m\u001b[0m\u001b[0;34m\u001b[0m\u001b[0m\n\u001b[1;32m     63\u001b[0m     \u001b[0;32mtry\u001b[0m\u001b[0;34m:\u001b[0m\u001b[0;34m\u001b[0m\u001b[0;34m\u001b[0m\u001b[0m\n\u001b[0;32m---> 64\u001b[0;31m       \u001b[0;32mreturn\u001b[0m \u001b[0mfn\u001b[0m\u001b[0;34m(\u001b[0m\u001b[0;34m*\u001b[0m\u001b[0margs\u001b[0m\u001b[0;34m,\u001b[0m \u001b[0;34m**\u001b[0m\u001b[0mkwargs\u001b[0m\u001b[0;34m)\u001b[0m\u001b[0;34m\u001b[0m\u001b[0;34m\u001b[0m\u001b[0m\n\u001b[0m\u001b[1;32m     65\u001b[0m     \u001b[0;32mexcept\u001b[0m \u001b[0mException\u001b[0m \u001b[0;32mas\u001b[0m \u001b[0me\u001b[0m\u001b[0;34m:\u001b[0m  \u001b[0;31m# pylint: disable=broad-except\u001b[0m\u001b[0;34m\u001b[0m\u001b[0;34m\u001b[0m\u001b[0m\n\u001b[1;32m     66\u001b[0m       \u001b[0mfiltered_tb\u001b[0m \u001b[0;34m=\u001b[0m \u001b[0m_process_traceback_frames\u001b[0m\u001b[0;34m(\u001b[0m\u001b[0me\u001b[0m\u001b[0;34m.\u001b[0m\u001b[0m__traceback__\u001b[0m\u001b[0;34m)\u001b[0m\u001b[0;34m\u001b[0m\u001b[0;34m\u001b[0m\u001b[0m\n",
            "\u001b[0;32m/usr/local/lib/python3.7/dist-packages/keras/engine/training.py\u001b[0m in \u001b[0;36mfit\u001b[0;34m(self, x, y, batch_size, epochs, verbose, callbacks, validation_split, validation_data, shuffle, class_weight, sample_weight, initial_epoch, steps_per_epoch, validation_steps, validation_batch_size, validation_freq, max_queue_size, workers, use_multiprocessing)\u001b[0m\n\u001b[1;32m   1382\u001b[0m                 _r=1):\n\u001b[1;32m   1383\u001b[0m               \u001b[0mcallbacks\u001b[0m\u001b[0;34m.\u001b[0m\u001b[0mon_train_batch_begin\u001b[0m\u001b[0;34m(\u001b[0m\u001b[0mstep\u001b[0m\u001b[0;34m)\u001b[0m\u001b[0;34m\u001b[0m\u001b[0;34m\u001b[0m\u001b[0m\n\u001b[0;32m-> 1384\u001b[0;31m               \u001b[0mtmp_logs\u001b[0m \u001b[0;34m=\u001b[0m \u001b[0mself\u001b[0m\u001b[0;34m.\u001b[0m\u001b[0mtrain_function\u001b[0m\u001b[0;34m(\u001b[0m\u001b[0miterator\u001b[0m\u001b[0;34m)\u001b[0m\u001b[0;34m\u001b[0m\u001b[0;34m\u001b[0m\u001b[0m\n\u001b[0m\u001b[1;32m   1385\u001b[0m               \u001b[0;32mif\u001b[0m \u001b[0mdata_handler\u001b[0m\u001b[0;34m.\u001b[0m\u001b[0mshould_sync\u001b[0m\u001b[0;34m:\u001b[0m\u001b[0;34m\u001b[0m\u001b[0;34m\u001b[0m\u001b[0m\n\u001b[1;32m   1386\u001b[0m                 \u001b[0mcontext\u001b[0m\u001b[0;34m.\u001b[0m\u001b[0masync_wait\u001b[0m\u001b[0;34m(\u001b[0m\u001b[0;34m)\u001b[0m\u001b[0;34m\u001b[0m\u001b[0;34m\u001b[0m\u001b[0m\n",
            "\u001b[0;32m/usr/local/lib/python3.7/dist-packages/tensorflow/python/util/traceback_utils.py\u001b[0m in \u001b[0;36merror_handler\u001b[0;34m(*args, **kwargs)\u001b[0m\n\u001b[1;32m    148\u001b[0m     \u001b[0mfiltered_tb\u001b[0m \u001b[0;34m=\u001b[0m \u001b[0;32mNone\u001b[0m\u001b[0;34m\u001b[0m\u001b[0;34m\u001b[0m\u001b[0m\n\u001b[1;32m    149\u001b[0m     \u001b[0;32mtry\u001b[0m\u001b[0;34m:\u001b[0m\u001b[0;34m\u001b[0m\u001b[0;34m\u001b[0m\u001b[0m\n\u001b[0;32m--> 150\u001b[0;31m       \u001b[0;32mreturn\u001b[0m \u001b[0mfn\u001b[0m\u001b[0;34m(\u001b[0m\u001b[0;34m*\u001b[0m\u001b[0margs\u001b[0m\u001b[0;34m,\u001b[0m \u001b[0;34m**\u001b[0m\u001b[0mkwargs\u001b[0m\u001b[0;34m)\u001b[0m\u001b[0;34m\u001b[0m\u001b[0;34m\u001b[0m\u001b[0m\n\u001b[0m\u001b[1;32m    151\u001b[0m     \u001b[0;32mexcept\u001b[0m \u001b[0mException\u001b[0m \u001b[0;32mas\u001b[0m \u001b[0me\u001b[0m\u001b[0;34m:\u001b[0m\u001b[0;34m\u001b[0m\u001b[0;34m\u001b[0m\u001b[0m\n\u001b[1;32m    152\u001b[0m       \u001b[0mfiltered_tb\u001b[0m \u001b[0;34m=\u001b[0m \u001b[0m_process_traceback_frames\u001b[0m\u001b[0;34m(\u001b[0m\u001b[0me\u001b[0m\u001b[0;34m.\u001b[0m\u001b[0m__traceback__\u001b[0m\u001b[0;34m)\u001b[0m\u001b[0;34m\u001b[0m\u001b[0;34m\u001b[0m\u001b[0m\n",
            "\u001b[0;32m/usr/local/lib/python3.7/dist-packages/tensorflow/python/eager/def_function.py\u001b[0m in \u001b[0;36m__call__\u001b[0;34m(self, *args, **kwds)\u001b[0m\n\u001b[1;32m    913\u001b[0m \u001b[0;34m\u001b[0m\u001b[0m\n\u001b[1;32m    914\u001b[0m       \u001b[0;32mwith\u001b[0m \u001b[0mOptionalXlaContext\u001b[0m\u001b[0;34m(\u001b[0m\u001b[0mself\u001b[0m\u001b[0;34m.\u001b[0m\u001b[0m_jit_compile\u001b[0m\u001b[0;34m)\u001b[0m\u001b[0;34m:\u001b[0m\u001b[0;34m\u001b[0m\u001b[0;34m\u001b[0m\u001b[0m\n\u001b[0;32m--> 915\u001b[0;31m         \u001b[0mresult\u001b[0m \u001b[0;34m=\u001b[0m \u001b[0mself\u001b[0m\u001b[0;34m.\u001b[0m\u001b[0m_call\u001b[0m\u001b[0;34m(\u001b[0m\u001b[0;34m*\u001b[0m\u001b[0margs\u001b[0m\u001b[0;34m,\u001b[0m \u001b[0;34m**\u001b[0m\u001b[0mkwds\u001b[0m\u001b[0;34m)\u001b[0m\u001b[0;34m\u001b[0m\u001b[0;34m\u001b[0m\u001b[0m\n\u001b[0m\u001b[1;32m    916\u001b[0m \u001b[0;34m\u001b[0m\u001b[0m\n\u001b[1;32m    917\u001b[0m       \u001b[0mnew_tracing_count\u001b[0m \u001b[0;34m=\u001b[0m \u001b[0mself\u001b[0m\u001b[0;34m.\u001b[0m\u001b[0mexperimental_get_tracing_count\u001b[0m\u001b[0;34m(\u001b[0m\u001b[0;34m)\u001b[0m\u001b[0;34m\u001b[0m\u001b[0;34m\u001b[0m\u001b[0m\n",
            "\u001b[0;32m/usr/local/lib/python3.7/dist-packages/tensorflow/python/eager/def_function.py\u001b[0m in \u001b[0;36m_call\u001b[0;34m(self, *args, **kwds)\u001b[0m\n\u001b[1;32m    945\u001b[0m       \u001b[0;31m# In this case we have created variables on the first call, so we run the\u001b[0m\u001b[0;34m\u001b[0m\u001b[0;34m\u001b[0m\u001b[0;34m\u001b[0m\u001b[0m\n\u001b[1;32m    946\u001b[0m       \u001b[0;31m# defunned version which is guaranteed to never create variables.\u001b[0m\u001b[0;34m\u001b[0m\u001b[0;34m\u001b[0m\u001b[0;34m\u001b[0m\u001b[0m\n\u001b[0;32m--> 947\u001b[0;31m       \u001b[0;32mreturn\u001b[0m \u001b[0mself\u001b[0m\u001b[0;34m.\u001b[0m\u001b[0m_stateless_fn\u001b[0m\u001b[0;34m(\u001b[0m\u001b[0;34m*\u001b[0m\u001b[0margs\u001b[0m\u001b[0;34m,\u001b[0m \u001b[0;34m**\u001b[0m\u001b[0mkwds\u001b[0m\u001b[0;34m)\u001b[0m  \u001b[0;31m# pylint: disable=not-callable\u001b[0m\u001b[0;34m\u001b[0m\u001b[0;34m\u001b[0m\u001b[0m\n\u001b[0m\u001b[1;32m    948\u001b[0m     \u001b[0;32melif\u001b[0m \u001b[0mself\u001b[0m\u001b[0;34m.\u001b[0m\u001b[0m_stateful_fn\u001b[0m \u001b[0;32mis\u001b[0m \u001b[0;32mnot\u001b[0m \u001b[0;32mNone\u001b[0m\u001b[0;34m:\u001b[0m\u001b[0;34m\u001b[0m\u001b[0;34m\u001b[0m\u001b[0m\n\u001b[1;32m    949\u001b[0m       \u001b[0;31m# Release the lock early so that multiple threads can perform the call\u001b[0m\u001b[0;34m\u001b[0m\u001b[0;34m\u001b[0m\u001b[0;34m\u001b[0m\u001b[0m\n",
            "\u001b[0;32m/usr/local/lib/python3.7/dist-packages/tensorflow/python/eager/function.py\u001b[0m in \u001b[0;36m__call__\u001b[0;34m(self, *args, **kwargs)\u001b[0m\n\u001b[1;32m   2955\u001b[0m        filtered_flat_args) = self._maybe_define_function(args, kwargs)\n\u001b[1;32m   2956\u001b[0m     return graph_function._call_flat(\n\u001b[0;32m-> 2957\u001b[0;31m         filtered_flat_args, captured_inputs=graph_function.captured_inputs)  # pylint: disable=protected-access\n\u001b[0m\u001b[1;32m   2958\u001b[0m \u001b[0;34m\u001b[0m\u001b[0m\n\u001b[1;32m   2959\u001b[0m   \u001b[0;34m@\u001b[0m\u001b[0mproperty\u001b[0m\u001b[0;34m\u001b[0m\u001b[0;34m\u001b[0m\u001b[0m\n",
            "\u001b[0;32m/usr/local/lib/python3.7/dist-packages/tensorflow/python/eager/function.py\u001b[0m in \u001b[0;36m_call_flat\u001b[0;34m(self, args, captured_inputs, cancellation_manager)\u001b[0m\n\u001b[1;32m   1852\u001b[0m       \u001b[0;31m# No tape is watching; skip to running the function.\u001b[0m\u001b[0;34m\u001b[0m\u001b[0;34m\u001b[0m\u001b[0;34m\u001b[0m\u001b[0m\n\u001b[1;32m   1853\u001b[0m       return self._build_call_outputs(self._inference_function.call(\n\u001b[0;32m-> 1854\u001b[0;31m           ctx, args, cancellation_manager=cancellation_manager))\n\u001b[0m\u001b[1;32m   1855\u001b[0m     forward_backward = self._select_forward_and_backward_functions(\n\u001b[1;32m   1856\u001b[0m         \u001b[0margs\u001b[0m\u001b[0;34m,\u001b[0m\u001b[0;34m\u001b[0m\u001b[0;34m\u001b[0m\u001b[0m\n",
            "\u001b[0;32m/usr/local/lib/python3.7/dist-packages/tensorflow/python/eager/function.py\u001b[0m in \u001b[0;36mcall\u001b[0;34m(self, ctx, args, cancellation_manager)\u001b[0m\n\u001b[1;32m    502\u001b[0m               \u001b[0minputs\u001b[0m\u001b[0;34m=\u001b[0m\u001b[0margs\u001b[0m\u001b[0;34m,\u001b[0m\u001b[0;34m\u001b[0m\u001b[0;34m\u001b[0m\u001b[0m\n\u001b[1;32m    503\u001b[0m               \u001b[0mattrs\u001b[0m\u001b[0;34m=\u001b[0m\u001b[0mattrs\u001b[0m\u001b[0;34m,\u001b[0m\u001b[0;34m\u001b[0m\u001b[0;34m\u001b[0m\u001b[0m\n\u001b[0;32m--> 504\u001b[0;31m               ctx=ctx)\n\u001b[0m\u001b[1;32m    505\u001b[0m         \u001b[0;32melse\u001b[0m\u001b[0;34m:\u001b[0m\u001b[0;34m\u001b[0m\u001b[0;34m\u001b[0m\u001b[0m\n\u001b[1;32m    506\u001b[0m           outputs = execute.execute_with_cancellation(\n",
            "\u001b[0;32m/usr/local/lib/python3.7/dist-packages/tensorflow/python/eager/execute.py\u001b[0m in \u001b[0;36mquick_execute\u001b[0;34m(op_name, num_outputs, inputs, attrs, ctx, name)\u001b[0m\n\u001b[1;32m     53\u001b[0m     \u001b[0mctx\u001b[0m\u001b[0;34m.\u001b[0m\u001b[0mensure_initialized\u001b[0m\u001b[0;34m(\u001b[0m\u001b[0;34m)\u001b[0m\u001b[0;34m\u001b[0m\u001b[0;34m\u001b[0m\u001b[0m\n\u001b[1;32m     54\u001b[0m     tensors = pywrap_tfe.TFE_Py_Execute(ctx._handle, device_name, op_name,\n\u001b[0;32m---> 55\u001b[0;31m                                         inputs, attrs, num_outputs)\n\u001b[0m\u001b[1;32m     56\u001b[0m   \u001b[0;32mexcept\u001b[0m \u001b[0mcore\u001b[0m\u001b[0;34m.\u001b[0m\u001b[0m_NotOkStatusException\u001b[0m \u001b[0;32mas\u001b[0m \u001b[0me\u001b[0m\u001b[0;34m:\u001b[0m\u001b[0;34m\u001b[0m\u001b[0;34m\u001b[0m\u001b[0m\n\u001b[1;32m     57\u001b[0m     \u001b[0;32mif\u001b[0m \u001b[0mname\u001b[0m \u001b[0;32mis\u001b[0m \u001b[0;32mnot\u001b[0m \u001b[0;32mNone\u001b[0m\u001b[0;34m:\u001b[0m\u001b[0;34m\u001b[0m\u001b[0;34m\u001b[0m\u001b[0m\n",
            "\u001b[0;31mKeyboardInterrupt\u001b[0m: "
          ]
        }
      ],
      "source": [
        "autoencoder.fit(\n",
        "    x=noisy_train_data,\n",
        "    y=train_data,\n",
        "    epochs=100,\n",
        "    batch_size=128,\n",
        "    shuffle=True,\n",
        "    validation_data=(noisy_test_data, test_data),\n",
        ")"
      ]
    },
    {
      "cell_type": "markdown",
      "metadata": {
        "id": "CI-eJpoz7bme"
      },
      "source": [
        "Let's now predict on the noisy data and display the results of our autoencoder.\n",
        "\n",
        "Notice how the autoencoder does an amazing job at removing the noise from the\n",
        "input images."
      ]
    },
    {
      "cell_type": "code",
      "execution_count": null,
      "metadata": {
        "id": "HCEQGX_27bme"
      },
      "outputs": [],
      "source": [
        "predictions = autoencoder.predict(noisy_test_data)\n",
        "display(noisy_test_data, predictions)"
      ]
    }
  ],
  "metadata": {
    "colab": {
      "collapsed_sections": [],
      "name": "autoencoder",
      "provenance": [],
      "toc_visible": true,
      "include_colab_link": true
    },
    "kernelspec": {
      "display_name": "Python 3",
      "language": "python",
      "name": "python3"
    },
    "language_info": {
      "codemirror_mode": {
        "name": "ipython",
        "version": 3
      },
      "file_extension": ".py",
      "mimetype": "text/x-python",
      "name": "python",
      "nbconvert_exporter": "python",
      "pygments_lexer": "ipython3",
      "version": "3.7.0"
    },
    "accelerator": "GPU",
    "gpuClass": "standard"
  },
  "nbformat": 4,
  "nbformat_minor": 0
}