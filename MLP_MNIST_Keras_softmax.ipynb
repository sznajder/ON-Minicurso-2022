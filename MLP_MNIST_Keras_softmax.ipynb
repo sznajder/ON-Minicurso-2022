{
  "nbformat": 4,
  "nbformat_minor": 0,
  "metadata": {
    "colab": {
      "name": "MLP_MNIST_Keras_softmax.ipynb",
      "provenance": [],
      "collapsed_sections": [],
      "include_colab_link": true
    },
    "kernelspec": {
      "name": "python3",
      "display_name": "Python 3"
    },
    "accelerator": "GPU"
  },
  "cells": [
    {
      "cell_type": "markdown",
      "metadata": {
        "id": "view-in-github",
        "colab_type": "text"
      },
      "source": [
        "<a href=\"https://colab.research.google.com/github/sznajder/ON-Minicurso-2022/blob/main/MLP_MNIST_Keras_softmax.ipynb\" target=\"_parent\"><img src=\"https://colab.research.google.com/assets/colab-badge.svg\" alt=\"Open In Colab\"/></a>"
      ]
    },
    {
      "cell_type": "markdown",
      "metadata": {
        "id": "ftxVZMcL9zlw"
      },
      "source": [
        "**JUPYTER NOTEBOOK FOR A MLP with SOFTMAX output \n",
        "LEARNING MNIST NUMBERS from 0 to 9**"
      ]
    },
    {
      "cell_type": "code",
      "metadata": {
        "id": "h1MQaRXWLVxm"
      },
      "source": [
        "import numpy as np\n",
        "import pandas as pd\n",
        "import matplotlib.pyplot as plt\n",
        "from tensorflow.keras.models import Sequential\n",
        "from tensorflow.keras.layers import Dense, Dropout, Activation, Flatten\n",
        "from tensorflow.keras.optimizers import SGD\n",
        "from tensorflow.keras.datasets import mnist\n",
        "from tensorflow.keras import utils"
      ],
      "execution_count": null,
      "outputs": []
    },
    {
      "cell_type": "markdown",
      "metadata": {
        "id": "yvoxEUZsXSpp"
      },
      "source": [
        "**Define the network hyperparameters**"
      ]
    },
    {
      "cell_type": "code",
      "metadata": {
        "id": "Oo7CQ7KkFSud"
      },
      "source": [
        "# Trainign batch size \n",
        "batch_size = 64\n",
        "# Number of training epochs\n",
        "epochs = 50\n",
        "# Fraction of the training data to be used as validation\n",
        "val_split = 0.3\n",
        "# Number of classes ( multi-classification )\n",
        "nb_classes = 10\n",
        "# Learning rate\n",
        "lr=0.1\n",
        "# Dropout rate\n",
        "drop=0.1"
      ],
      "execution_count": null,
      "outputs": []
    },
    {
      "cell_type": "markdown",
      "metadata": {
        "id": "VA0a8nUbXes8"
      },
      "source": [
        "**Load the MNIST dataset and format it for train and validation**"
      ]
    },
    {
      "cell_type": "code",
      "metadata": {
        "id": "vwHyt7p9FSun",
        "outputId": "ae5b2de1-4fb8-4562-f12a-c2f218c7fde8",
        "colab": {
          "base_uri": "https://localhost:8080/"
        }
      },
      "source": [
        "# Load MNIST dataset (28x28 pixel images)\n",
        "(X_train, y_train), (X_test, y_test) = mnist.load_data()\n",
        "X_train = X_train.reshape(60000, 784)\n",
        "X_test = X_test.reshape(10000, 784)\n",
        "X_train = X_train.astype('float32')\n",
        "X_test = X_test.astype('float32')\n",
        "X_train /= 255\n",
        "X_test /= 255\n",
        "print(\"y_train=\",y_train)\n",
        "Y_Train = utils.to_categorical(y_train, nb_classes)\n",
        "print(\"Y_Train=\",Y_Train)\n",
        "Y_Test = utils.to_categorical(y_test, nb_classes)\n"
      ],
      "execution_count": null,
      "outputs": [
        {
          "output_type": "stream",
          "name": "stdout",
          "text": [
            "y_train= [5 0 4 ... 5 6 8]\n",
            "Y_Train= [[0. 0. 0. ... 0. 0. 0.]\n",
            " [1. 0. 0. ... 0. 0. 0.]\n",
            " [0. 0. 0. ... 0. 0. 0.]\n",
            " ...\n",
            " [0. 0. 0. ... 0. 0. 0.]\n",
            " [0. 0. 0. ... 0. 0. 0.]\n",
            " [0. 0. 0. ... 0. 1. 0.]]\n"
          ]
        }
      ]
    },
    {
      "cell_type": "markdown",
      "metadata": {
        "id": "aqzGNI28X8eC"
      },
      "source": [
        ""
      ]
    },
    {
      "cell_type": "markdown",
      "metadata": {
        "id": "bW5Ef_8PXtYs"
      },
      "source": [
        "**Define the MLP achitecture using KERAS sequential API**"
      ]
    },
    {
      "cell_type": "code",
      "metadata": {
        "id": "vnEXAUWpFSus",
        "outputId": "173fc5a6-b366-4fae-d5bf-0e10ac2f7a15",
        "colab": {
          "base_uri": "https://localhost:8080/"
        }
      },
      "source": [
        "# Multilayer Perceptron model\n",
        "model = Sequential()\n",
        "# Input layer\n",
        "model.add(Dense(input_dim=784, activation=\"relu\", units=100, kernel_initializer=\"normal\"))\n",
        "model.add(Dropout(drop))\n",
        "# Hidden layers\n",
        "hidden_nodes = {1:50,2:25}\n",
        "#hidden_nodes = {1:50,2:50,3:50,4:50,5:50,6:50,7:50} \n",
        "for nhid in hidden_nodes.values():\n",
        "  model.add(Dense(activation=\"relu\", units=int(nhid), kernel_initializer=\"normal\")) # after first layer no need to specify input_dim\n",
        "  model.add(Dropout(drop))\n",
        "# Output layer\n",
        "model.add(Dense(activation=\"softmax\", units=10, kernel_initializer=\"normal\"))\n",
        "# Compile and print model\n",
        "model.compile(optimizer=SGD(lr=lr), loss='categorical_crossentropy', metrics=['accuracy'])\n",
        "model.summary()"
      ],
      "execution_count": null,
      "outputs": [
        {
          "output_type": "stream",
          "name": "stdout",
          "text": [
            "Model: \"sequential\"\n",
            "_________________________________________________________________\n",
            " Layer (type)                Output Shape              Param #   \n",
            "=================================================================\n",
            " dense (Dense)               (None, 100)               78500     \n",
            "                                                                 \n",
            " dropout (Dropout)           (None, 100)               0         \n",
            "                                                                 \n",
            " dense_1 (Dense)             (None, 50)                5050      \n",
            "                                                                 \n",
            " dropout_1 (Dropout)         (None, 50)                0         \n",
            "                                                                 \n",
            " dense_2 (Dense)             (None, 25)                1275      \n",
            "                                                                 \n",
            " dropout_2 (Dropout)         (None, 25)                0         \n",
            "                                                                 \n",
            " dense_3 (Dense)             (None, 10)                260       \n",
            "                                                                 \n",
            "=================================================================\n",
            "Total params: 85,085\n",
            "Trainable params: 85,085\n",
            "Non-trainable params: 0\n",
            "_________________________________________________________________\n"
          ]
        },
        {
          "output_type": "stream",
          "name": "stderr",
          "text": [
            "/usr/local/lib/python3.7/dist-packages/keras/optimizer_v2/gradient_descent.py:102: UserWarning: The `lr` argument is deprecated, use `learning_rate` instead.\n",
            "  super(SGD, self).__init__(name, **kwargs)\n"
          ]
        }
      ]
    },
    {
      "cell_type": "markdown",
      "metadata": {
        "id": "R1Uju_bZX45K"
      },
      "source": [
        "**Train the MLP**"
      ]
    },
    {
      "cell_type": "code",
      "metadata": {
        "id": "v1ZdRrtvFSu3",
        "outputId": "174d20a5-8d87-49a2-9c59-77baa9957719",
        "colab": {
          "base_uri": "https://localhost:8080/"
        }
      },
      "source": [
        "# Train\n",
        "history = model.fit(X_train, Y_Train, validation_split=val_split, epochs=epochs, batch_size=batch_size, shuffle=True, verbose=1)\n"
      ],
      "execution_count": null,
      "outputs": [
        {
          "output_type": "stream",
          "name": "stdout",
          "text": [
            "Epoch 1/50\n",
            "657/657 [==============================] - 5s 4ms/step - loss: 1.3868 - accuracy: 0.5079 - val_loss: 0.4893 - val_accuracy: 0.8564\n",
            "Epoch 2/50\n",
            "657/657 [==============================] - 2s 4ms/step - loss: 0.4080 - accuracy: 0.8805 - val_loss: 0.3231 - val_accuracy: 0.9049\n",
            "Epoch 3/50\n",
            "657/657 [==============================] - 2s 4ms/step - loss: 0.2561 - accuracy: 0.9267 - val_loss: 0.2601 - val_accuracy: 0.9182\n",
            "Epoch 4/50\n",
            "657/657 [==============================] - 2s 4ms/step - loss: 0.2001 - accuracy: 0.9423 - val_loss: 0.1541 - val_accuracy: 0.9557\n",
            "Epoch 5/50\n",
            "657/657 [==============================] - 2s 4ms/step - loss: 0.1614 - accuracy: 0.9528 - val_loss: 0.1505 - val_accuracy: 0.9539\n",
            "Epoch 6/50\n",
            "657/657 [==============================] - 2s 4ms/step - loss: 0.1393 - accuracy: 0.9591 - val_loss: 0.1330 - val_accuracy: 0.9618\n",
            "Epoch 7/50\n",
            "657/657 [==============================] - 2s 4ms/step - loss: 0.1231 - accuracy: 0.9629 - val_loss: 0.1410 - val_accuracy: 0.9593\n",
            "Epoch 8/50\n",
            "657/657 [==============================] - 2s 4ms/step - loss: 0.1096 - accuracy: 0.9678 - val_loss: 0.1147 - val_accuracy: 0.9667\n",
            "Epoch 9/50\n",
            "657/657 [==============================] - 2s 4ms/step - loss: 0.1024 - accuracy: 0.9691 - val_loss: 0.1173 - val_accuracy: 0.9654\n",
            "Epoch 10/50\n",
            "657/657 [==============================] - 2s 4ms/step - loss: 0.0955 - accuracy: 0.9718 - val_loss: 0.1240 - val_accuracy: 0.9657\n",
            "Epoch 11/50\n",
            "657/657 [==============================] - 2s 4ms/step - loss: 0.0899 - accuracy: 0.9728 - val_loss: 0.1187 - val_accuracy: 0.9673\n",
            "Epoch 12/50\n",
            "657/657 [==============================] - 2s 4ms/step - loss: 0.0823 - accuracy: 0.9755 - val_loss: 0.1205 - val_accuracy: 0.9683\n",
            "Epoch 13/50\n",
            "657/657 [==============================] - 2s 4ms/step - loss: 0.0764 - accuracy: 0.9769 - val_loss: 0.1833 - val_accuracy: 0.9517\n",
            "Epoch 14/50\n",
            "657/657 [==============================] - 2s 4ms/step - loss: 0.0738 - accuracy: 0.9773 - val_loss: 0.1200 - val_accuracy: 0.9692\n",
            "Epoch 15/50\n",
            "657/657 [==============================] - 2s 4ms/step - loss: 0.0646 - accuracy: 0.9805 - val_loss: 0.1113 - val_accuracy: 0.9698\n",
            "Epoch 16/50\n",
            "657/657 [==============================] - 2s 4ms/step - loss: 0.0625 - accuracy: 0.9805 - val_loss: 0.1118 - val_accuracy: 0.9699\n",
            "Epoch 17/50\n",
            "657/657 [==============================] - 2s 4ms/step - loss: 0.0569 - accuracy: 0.9826 - val_loss: 0.1234 - val_accuracy: 0.9701\n",
            "Epoch 18/50\n",
            "657/657 [==============================] - 2s 4ms/step - loss: 0.0595 - accuracy: 0.9811 - val_loss: 0.1153 - val_accuracy: 0.9708\n",
            "Epoch 19/50\n",
            "657/657 [==============================] - 2s 4ms/step - loss: 0.0554 - accuracy: 0.9826 - val_loss: 0.1150 - val_accuracy: 0.9718\n",
            "Epoch 20/50\n",
            "657/657 [==============================] - 2s 4ms/step - loss: 0.0546 - accuracy: 0.9834 - val_loss: 0.1133 - val_accuracy: 0.9708\n",
            "Epoch 21/50\n",
            "657/657 [==============================] - 2s 4ms/step - loss: 0.0485 - accuracy: 0.9852 - val_loss: 0.1193 - val_accuracy: 0.9701\n",
            "Epoch 22/50\n",
            "657/657 [==============================] - 2s 4ms/step - loss: 0.0508 - accuracy: 0.9841 - val_loss: 0.1377 - val_accuracy: 0.9672\n",
            "Epoch 23/50\n",
            "657/657 [==============================] - 2s 4ms/step - loss: 0.0467 - accuracy: 0.9850 - val_loss: 0.1342 - val_accuracy: 0.9653\n",
            "Epoch 24/50\n",
            "657/657 [==============================] - 2s 4ms/step - loss: 0.0457 - accuracy: 0.9861 - val_loss: 0.1193 - val_accuracy: 0.9716\n",
            "Epoch 25/50\n",
            "657/657 [==============================] - 2s 4ms/step - loss: 0.0450 - accuracy: 0.9858 - val_loss: 0.1172 - val_accuracy: 0.9717\n",
            "Epoch 26/50\n",
            "657/657 [==============================] - 2s 4ms/step - loss: 0.0427 - accuracy: 0.9865 - val_loss: 0.1212 - val_accuracy: 0.9708\n",
            "Epoch 27/50\n",
            "657/657 [==============================] - 2s 4ms/step - loss: 0.0401 - accuracy: 0.9871 - val_loss: 0.1191 - val_accuracy: 0.9709\n",
            "Epoch 28/50\n",
            "657/657 [==============================] - 2s 4ms/step - loss: 0.0396 - accuracy: 0.9874 - val_loss: 0.1250 - val_accuracy: 0.9716\n",
            "Epoch 29/50\n",
            "657/657 [==============================] - 2s 4ms/step - loss: 0.0386 - accuracy: 0.9880 - val_loss: 0.1267 - val_accuracy: 0.9704\n",
            "Epoch 30/50\n",
            "657/657 [==============================] - 2s 4ms/step - loss: 0.0363 - accuracy: 0.9884 - val_loss: 0.1198 - val_accuracy: 0.9728\n",
            "Epoch 31/50\n",
            "657/657 [==============================] - 2s 4ms/step - loss: 0.0343 - accuracy: 0.9888 - val_loss: 0.1392 - val_accuracy: 0.9710\n",
            "Epoch 32/50\n",
            "657/657 [==============================] - 2s 4ms/step - loss: 0.0355 - accuracy: 0.9889 - val_loss: 0.1232 - val_accuracy: 0.9721\n",
            "Epoch 33/50\n",
            "657/657 [==============================] - 2s 4ms/step - loss: 0.0344 - accuracy: 0.9894 - val_loss: 0.1204 - val_accuracy: 0.9733\n",
            "Epoch 34/50\n",
            "657/657 [==============================] - 2s 4ms/step - loss: 0.0310 - accuracy: 0.9905 - val_loss: 0.1181 - val_accuracy: 0.9727\n",
            "Epoch 35/50\n",
            "657/657 [==============================] - 2s 4ms/step - loss: 0.0318 - accuracy: 0.9898 - val_loss: 0.1246 - val_accuracy: 0.9736\n",
            "Epoch 36/50\n",
            "657/657 [==============================] - 2s 4ms/step - loss: 0.0311 - accuracy: 0.9901 - val_loss: 0.1312 - val_accuracy: 0.9734\n",
            "Epoch 37/50\n",
            "657/657 [==============================] - 2s 4ms/step - loss: 0.0332 - accuracy: 0.9891 - val_loss: 0.1269 - val_accuracy: 0.9722\n",
            "Epoch 38/50\n",
            "657/657 [==============================] - 2s 4ms/step - loss: 0.0323 - accuracy: 0.9898 - val_loss: 0.1262 - val_accuracy: 0.9728\n",
            "Epoch 39/50\n",
            "657/657 [==============================] - 2s 4ms/step - loss: 0.0263 - accuracy: 0.9914 - val_loss: 0.1574 - val_accuracy: 0.9691\n",
            "Epoch 40/50\n",
            "657/657 [==============================] - 2s 4ms/step - loss: 0.0301 - accuracy: 0.9905 - val_loss: 0.1273 - val_accuracy: 0.9744\n",
            "Epoch 41/50\n",
            "657/657 [==============================] - 2s 4ms/step - loss: 0.0303 - accuracy: 0.9902 - val_loss: 0.1269 - val_accuracy: 0.9734\n",
            "Epoch 42/50\n",
            "657/657 [==============================] - 2s 4ms/step - loss: 0.0291 - accuracy: 0.9907 - val_loss: 0.1488 - val_accuracy: 0.9700\n",
            "Epoch 43/50\n",
            "657/657 [==============================] - 2s 4ms/step - loss: 0.0255 - accuracy: 0.9919 - val_loss: 0.1453 - val_accuracy: 0.9717\n",
            "Epoch 44/50\n",
            "657/657 [==============================] - 2s 4ms/step - loss: 0.0261 - accuracy: 0.9918 - val_loss: 0.1368 - val_accuracy: 0.9721\n",
            "Epoch 45/50\n",
            "657/657 [==============================] - 2s 4ms/step - loss: 0.0264 - accuracy: 0.9920 - val_loss: 0.1333 - val_accuracy: 0.9728\n",
            "Epoch 46/50\n",
            "657/657 [==============================] - 2s 4ms/step - loss: 0.0250 - accuracy: 0.9920 - val_loss: 0.1326 - val_accuracy: 0.9734\n",
            "Epoch 47/50\n",
            "657/657 [==============================] - 2s 4ms/step - loss: 0.0266 - accuracy: 0.9917 - val_loss: 0.1270 - val_accuracy: 0.9731\n",
            "Epoch 48/50\n",
            "657/657 [==============================] - 2s 4ms/step - loss: 0.0265 - accuracy: 0.9915 - val_loss: 0.1271 - val_accuracy: 0.9736\n",
            "Epoch 49/50\n",
            "657/657 [==============================] - 2s 4ms/step - loss: 0.0266 - accuracy: 0.9915 - val_loss: 0.1295 - val_accuracy: 0.9731\n",
            "Epoch 50/50\n",
            "657/657 [==============================] - 4s 6ms/step - loss: 0.0249 - accuracy: 0.9924 - val_loss: 0.1302 - val_accuracy: 0.9748\n"
          ]
        }
      ]
    },
    {
      "cell_type": "markdown",
      "metadata": {
        "id": "87neTyT0X-1f"
      },
      "source": [
        "**Evaluate the MLP performance**"
      ]
    },
    {
      "cell_type": "code",
      "metadata": {
        "id": "tOlt7lO3FSvA",
        "colab": {
          "base_uri": "https://localhost:8080/"
        },
        "outputId": "aba467c0-e073-4c01-e865-7140ef62c82f"
      },
      "source": [
        "# Evaluate\n",
        "evaluation = model.evaluate(X_test, Y_Test, verbose=1)\n",
        "print('Summary: Loss over the test dataset: %.2f, Accuracy: %.2f' % (evaluation[0], evaluation[1]))"
      ],
      "execution_count": null,
      "outputs": [
        {
          "output_type": "stream",
          "name": "stdout",
          "text": [
            "313/313 [==============================] - 1s 2ms/step - loss: 0.1062 - accuracy: 0.9786\n",
            "Summary: Loss over the test dataset: 0.11, Accuracy: 0.98\n"
          ]
        }
      ]
    },
    {
      "cell_type": "markdown",
      "metadata": {
        "id": "bEmgseziYHhS"
      },
      "source": [
        "**Plot the training and validation performances**"
      ]
    },
    {
      "cell_type": "code",
      "metadata": {
        "id": "2kdXNm_WFbME",
        "colab": {
          "base_uri": "https://localhost:8080/",
          "height": 573
        },
        "outputId": "fefd550e-52a1-407c-cdf4-c24d7a8ae9f7"
      },
      "source": [
        "# Training History Visualization\n",
        "\n",
        "# Plot training & validation accuracy values\n",
        "plt.plot(history.history['accuracy'])\n",
        "plt.plot(history.history['val_accuracy'])\n",
        "plt.title('Model accuracy')\n",
        "plt.ylabel('Accuracy')\n",
        "plt.xlabel('Epoch')\n",
        "plt.legend(['Train', 'Test'], loc='upper left')\n",
        "plt.show()\n",
        "\n",
        "# Plot training & validation loss values\n",
        "plt.plot(history.history['loss'])\n",
        "plt.plot(history.history['val_loss'])\n",
        "plt.title('Model loss')\n",
        "plt.ylabel('Loss')\n",
        "plt.xlabel('Epoch')\n",
        "plt.legend(['Train', 'Test'], loc='upper right')\n",
        "plt.show()"
      ],
      "execution_count": null,
      "outputs": [
        {
          "output_type": "display_data",
          "data": {
            "text/plain": [
              "<Figure size 432x288 with 1 Axes>"
            ],
            "image/png": "[encoded data removed]"
          },
          "metadata": {
            "needs_background": "light"
          }
        },
        {
          "output_type": "display_data",
          "data": {
            "text/plain": [
              "<Figure size 432x288 with 1 Axes>"
            ],
            "image/png": "[encoded data removed]"
          },
          "metadata": {
            "needs_background": "light"
          }
        }
      ]
    },
    {
      "cell_type": "code",
      "metadata": {
        "id": "54xIi0GPrGNB",
        "colab": {
          "base_uri": "https://localhost:8080/",
          "height": 587
        },
        "outputId": "70aad26a-4190-4240-ca3a-7363a73079d9"
      },
      "source": [
        "Nplot = 20\n",
        "plt.figure(figsize=(10,10))\n",
        "Y = model.predict(X_test, batch_size=64)\n",
        "#Y=model.predict(X_test) \n",
        "Y=Y*10.\n",
        "print(Y.shape)\n",
        "for n in range(Nplot):\n",
        "  X=X_test[n,:]\n",
        "  ax = plt.subplot(4, 5, n+1)\n",
        "  plt.imshow(X.reshape(28,28))\n",
        "  plt.axis('off')\n",
        "  index = np.argmax(Y[n])\n",
        "  plt.title('Prediction='+str(index))\n",
        "plt.show()"
      ],
      "execution_count": null,
      "outputs": [
        {
          "output_type": "stream",
          "name": "stdout",
          "text": [
            "(10000, 10)\n"
          ]
        },
        {
          "output_type": "display_data",
          "data": {
            "text/plain": [
              "<Figure size 720x720 with 20 Axes>"
            ],
            "image/png": "[encoded data removed]"
          },
          "metadata": {
            "needs_background": "light"
          }
        }
      ]
    },
    {
      "cell_type": "markdown",
      "metadata": {
        "id": "4agGtlXb755a"
      },
      "source": [
        "**Exercises:**\n",
        "\n",
        "---\n",
        "\n",
        "\n",
        "**Question 1**: What happens if you increase/decrease the number of hidden layers?\n",
        "\n",
        "\n",
        "**Question 2:** What happens if you increase/decrease the number of nodes per hidden layer?\n",
        "\n",
        "**Question 3:** What happens if you increase/decrease the learning rate ?\n",
        "\n",
        "**Question 4:** What happens if you increase/decrease the number of training epochs  ?\n",
        "\n",
        "**Question 5:** What happens if you increase/decrease the training batch size ?\n",
        "\n",
        "**Question 6:** What happens if you use the ReLU activation function in the hidden layers ?"
      ]
    }
  ]
}